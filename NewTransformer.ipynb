{
  "nbformat": 4,
  "nbformat_minor": 0,
  "metadata": {
    "colab": {
      "provenance": [],
      "authorship_tag": "ABX9TyMGkTZ4v/m4YBQ9wSjVyg0F",
      "include_colab_link": true
    },
    "kernelspec": {
      "name": "python3",
      "display_name": "Python 3"
    },
    "language_info": {
      "name": "python"
    }
  },
  "cells": [
    {
      "cell_type": "markdown",
      "metadata": {
        "id": "view-in-github",
        "colab_type": "text"
      },
      "source": [
        "<a href=\"https://colab.research.google.com/github/AmiraOsamaMohamed/GraduationProject/blob/main/NewTransformer.ipynb\" target=\"_parent\"><img src=\"https://colab.research.google.com/assets/colab-badge.svg\" alt=\"Open In Colab\"/></a>"
      ]
    },
    {
      "cell_type": "markdown",
      "source": [
        "# New Transformer"
      ],
      "metadata": {
        "id": "zvHgV66JLLtH"
      }
    },
    {
      "cell_type": "code",
      "source": [
        "! git clone https://gitlab.com/bigirqu/quranqa.git"
      ],
      "metadata": {
        "colab": {
          "base_uri": "https://localhost:8080/"
        },
        "id": "HuPet0es27ju",
        "outputId": "3e4e7e08-d87a-4029-8fe9-991037d1b628"
      },
      "execution_count": null,
      "outputs": [
        {
          "output_type": "stream",
          "name": "stdout",
          "text": [
            "fatal: destination path 'quranqa' already exists and is not an empty directory.\n"
          ]
        }
      ]
    },
    {
      "cell_type": "markdown",
      "source": [
        "**install dependencies**"
      ],
      "metadata": {
        "id": "FqalN4mfKsEi"
      }
    },
    {
      "cell_type": "code",
      "source": [
        "! pip install farasa"
      ],
      "metadata": {
        "colab": {
          "base_uri": "https://localhost:8080/"
        },
        "id": "W9xN-WLe4jCu",
        "outputId": "72a807d4-58c0-4822-e4fe-d28f5c810c1e"
      },
      "execution_count": null,
      "outputs": [
        {
          "output_type": "stream",
          "name": "stdout",
          "text": [
            "Requirement already satisfied: farasa in /usr/local/lib/python3.10/dist-packages (0.0.1)\n"
          ]
        }
      ]
    },
    {
      "cell_type": "code",
      "source": [
        "!pip install --upgrade pip"
      ],
      "metadata": {
        "colab": {
          "base_uri": "https://localhost:8080/"
        },
        "id": "vri70eVN4loL",
        "outputId": "2e6e6726-2829-4e62-c46b-70a4e25184ae"
      },
      "execution_count": null,
      "outputs": [
        {
          "output_type": "stream",
          "name": "stdout",
          "text": [
            "Requirement already satisfied: pip in /usr/local/lib/python3.10/dist-packages (23.1.2)\n",
            "Collecting pip\n",
            "  Downloading pip-23.3.1-py3-none-any.whl (2.1 MB)\n",
            "\u001b[2K     \u001b[90m━━━━━━━━━━━━━━━━━━━━━━━━━━━━━━━━━━━━━━━━\u001b[0m \u001b[32m2.1/2.1 MB\u001b[0m \u001b[31m28.5 MB/s\u001b[0m eta \u001b[36m0:00:00\u001b[0m\n",
            "\u001b[?25hInstalling collected packages: pip\n",
            "  Attempting uninstall: pip\n",
            "    Found existing installation: pip 23.1.2\n",
            "    Uninstalling pip-23.1.2:\n",
            "      Successfully uninstalled pip-23.1.2\n",
            "Successfully installed pip-23.3.1\n"
          ]
        }
      ]
    },
    {
      "cell_type": "code",
      "source": [
        "! pip install transformers"
      ],
      "metadata": {
        "colab": {
          "base_uri": "https://localhost:8080/"
        },
        "id": "kEifXAkN3FMa",
        "outputId": "32bd9e27-b5ae-4484-cfda-5a27437c1f57"
      },
      "execution_count": null,
      "outputs": [
        {
          "output_type": "stream",
          "name": "stdout",
          "text": [
            "Requirement already satisfied: transformers in /usr/local/lib/python3.10/dist-packages (4.34.1)\n",
            "Requirement already satisfied: filelock in /usr/local/lib/python3.10/dist-packages (from transformers) (3.12.4)\n",
            "Requirement already satisfied: huggingface-hub<1.0,>=0.16.4 in /usr/local/lib/python3.10/dist-packages (from transformers) (0.17.3)\n",
            "Requirement already satisfied: numpy>=1.17 in /usr/local/lib/python3.10/dist-packages (from transformers) (1.23.5)\n",
            "Requirement already satisfied: packaging>=20.0 in /usr/local/lib/python3.10/dist-packages (from transformers) (23.2)\n",
            "Requirement already satisfied: pyyaml>=5.1 in /usr/local/lib/python3.10/dist-packages (from transformers) (6.0.1)\n",
            "Requirement already satisfied: regex!=2019.12.17 in /usr/local/lib/python3.10/dist-packages (from transformers) (2023.6.3)\n",
            "Requirement already satisfied: requests in /usr/local/lib/python3.10/dist-packages (from transformers) (2.31.0)\n",
            "Requirement already satisfied: tokenizers<0.15,>=0.14 in /usr/local/lib/python3.10/dist-packages (from transformers) (0.14.1)\n",
            "Requirement already satisfied: safetensors>=0.3.1 in /usr/local/lib/python3.10/dist-packages (from transformers) (0.4.0)\n",
            "Requirement already satisfied: tqdm>=4.27 in /usr/local/lib/python3.10/dist-packages (from transformers) (4.66.1)\n",
            "Requirement already satisfied: fsspec in /usr/local/lib/python3.10/dist-packages (from huggingface-hub<1.0,>=0.16.4->transformers) (2023.6.0)\n",
            "Requirement already satisfied: typing-extensions>=3.7.4.3 in /usr/local/lib/python3.10/dist-packages (from huggingface-hub<1.0,>=0.16.4->transformers) (4.5.0)\n",
            "Requirement already satisfied: charset-normalizer<4,>=2 in /usr/local/lib/python3.10/dist-packages (from requests->transformers) (3.3.0)\n",
            "Requirement already satisfied: idna<4,>=2.5 in /usr/local/lib/python3.10/dist-packages (from requests->transformers) (3.4)\n",
            "Requirement already satisfied: urllib3<3,>=1.21.1 in /usr/local/lib/python3.10/dist-packages (from requests->transformers) (2.0.7)\n",
            "Requirement already satisfied: certifi>=2017.4.17 in /usr/local/lib/python3.10/dist-packages (from requests->transformers) (2023.7.22)\n",
            "\u001b[33mWARNING: Running pip as the 'root' user can result in broken permissions and conflicting behaviour with the system package manager. It is recommended to use a virtual environment instead: https://pip.pypa.io/warnings/venv\u001b[0m\u001b[33m\n",
            "\u001b[0m"
          ]
        }
      ]
    },
    {
      "cell_type": "markdown",
      "source": [
        "**import library**"
      ],
      "metadata": {
        "id": "TLj1X3Pa3K4F"
      }
    },
    {
      "cell_type": "code",
      "source": [
        "!ls /content/drive/MyDrive/data"
      ],
      "metadata": {
        "colab": {
          "base_uri": "https://localhost:8080/"
        },
        "id": "v81Aycjo3LFl",
        "outputId": "d74759c7-ba73-4280-e9e1-e5e2007a62d6"
      },
      "execution_count": null,
      "outputs": [
        {
          "output_type": "stream",
          "name": "stdout",
          "text": [
            "QQA23_TaskB_qrcd_v1.2_dev.csv\t       QQA23_TaskB_qrcd_v1.2_test_noAnswers.jsonl  README.md\n",
            "QQA23_TaskB_qrcd_v1.2_dev.jsonl        QQA23_TaskB_qrcd_v1.2_train.csv\t\t   runs\n",
            "QQA23_TaskB_qrcd_v1.2_test_gold.csv    QQA23_TaskB_qrcd_v1.2_train.jsonl\n",
            "QQA23_TaskB_qrcd_v1.2_test_gold.jsonl  quranqa22_eval.cpython-310.pyc\n"
          ]
        }
      ]
    },
    {
      "cell_type": "code",
      "source": [
        "from transformers import pipeline\n",
        "from transformers import AutoTokenizer, AutoModelForQuestionAnswering\n",
        "import pandas as pd\n",
        "import numpy as np\n",
        "import json\n",
        "import sys\n",
        "from tqdm import tqdm\n",
        "import time\n",
        "sys.path.insert(0,\"/content/drive/MyDrive/data/quranqa22_eval.cpython-310.pyc\")\n",
        "import quranqa22_eval as eval #/content/quranqa/code/quranqa22_eval.py"
      ],
      "metadata": {
        "id": "W715xHcz3-Va"
      },
      "execution_count": null,
      "outputs": []
    },
    {
      "cell_type": "code",
      "source": [
        "train = pd.read_csv(\"/content/drive/MyDrive/data/QQA23_TaskB_qrcd_v1.2_train.csv\")\n",
        "validation = pd.read_csv(\"/content/drive/MyDrive/data/QQA23_TaskB_qrcd_v1.2_dev.csv\")"
      ],
      "metadata": {
        "id": "tdFWg0Ud42of"
      },
      "execution_count": null,
      "outputs": []
    },
    {
      "cell_type": "code",
      "source": [
        "train_dataset_jsonl = []\n",
        "with open('/content/drive/MyDrive/data/QQA23_TaskB_qrcd_v1.2_train.jsonl', 'r') as f:\n",
        "    for line in f:\n",
        "        train_dataset_jsonl.append(json.loads(line))\n",
        "\n",
        "with open('/content/drive/MyDrive/data/QQA23_TaskB_qrcd_v1.2_dev.jsonl', 'r') as f:\n",
        "    for line in f:\n",
        "        train_dataset_jsonl.append(json.loads(line))"
      ],
      "metadata": {
        "id": "BTq9xWdfEijn"
      },
      "execution_count": null,
      "outputs": []
    },
    {
      "cell_type": "code",
      "source": [
        "len(train_dataset_jsonl)"
      ],
      "metadata": {
        "colab": {
          "base_uri": "https://localhost:8080/"
        },
        "id": "Z0SmpgAUF9SP",
        "outputId": "e7f8a478-88ac-4dbc-cbe6-e33d95d02096"
      },
      "execution_count": null,
      "outputs": [
        {
          "output_type": "execute_result",
          "data": {
            "text/plain": [
              "1155"
            ]
          },
          "metadata": {},
          "execution_count": 20
        }
      ]
    },
    {
      "cell_type": "markdown",
      "source": [
        "**prepare data for prediction**"
      ],
      "metadata": {
        "id": "oMe4xW0GK_Z_"
      }
    },
    {
      "cell_type": "code",
      "source": [
        "data = pd.concat([train, validation])"
      ],
      "metadata": {
        "id": "qkkdaRM-K_uI"
      },
      "execution_count": null,
      "outputs": []
    },
    {
      "cell_type": "code",
      "source": [
        "data.info()"
      ],
      "metadata": {
        "colab": {
          "base_uri": "https://localhost:8080/"
        },
        "id": "cdJxeaAkLHt4",
        "outputId": "c0fddf45-7da6-4cf8-ec06-c5438add05c8"
      },
      "execution_count": null,
      "outputs": [
        {
          "output_type": "stream",
          "name": "stdout",
          "text": [
            "<class 'pandas.core.frame.DataFrame'>\n",
            "Int64Index: 1155 entries, 0 to 162\n",
            "Data columns (total 10 columns):\n",
            " #   Column              Non-Null Count  Dtype \n",
            "---  ------              --------------  ----- \n",
            " 0   pq_id               1155 non-null   object\n",
            " 1   passage             1155 non-null   object\n",
            " 2   surah               1155 non-null   int64 \n",
            " 3   verses              1155 non-null   object\n",
            " 4   question            1155 non-null   object\n",
            " 5   answer              1155 non-null   object\n",
            " 6   start_char          1155 non-null   int64 \n",
            " 7   processed passage   1155 non-null   object\n",
            " 8   processed question  1155 non-null   object\n",
            " 9   processed answer    1155 non-null   object\n",
            "dtypes: int64(2), object(8)\n",
            "memory usage: 99.3+ KB\n"
          ]
        }
      ]
    },
    {
      "cell_type": "code",
      "source": [
        "data = data.filter(items=[\"pq_id\",\"passage\",\"question\"])\n",
        "data_unique_QA = data.drop_duplicates()"
      ],
      "metadata": {
        "id": "K3fMrem1LHr4"
      },
      "execution_count": null,
      "outputs": []
    },
    {
      "cell_type": "code",
      "source": [
        "len(data_unique_QA)"
      ],
      "metadata": {
        "colab": {
          "base_uri": "https://localhost:8080/"
        },
        "id": "SkLVBnnpLHoy",
        "outputId": "91e919e1-b426-49cf-a92f-d6198bee0124"
      },
      "execution_count": null,
      "outputs": [
        {
          "output_type": "execute_result",
          "data": {
            "text/plain": [
              "1155"
            ]
          },
          "metadata": {},
          "execution_count": 24
        }
      ]
    },
    {
      "cell_type": "markdown",
      "source": [
        "**Model**"
      ],
      "metadata": {
        "id": "S_a5dNxQLkpd"
      }
    },
    {
      "cell_type": "code",
      "source": [
        "from transformers.utils.dummy_pt_objects import RemBertForSequenceClassification\n",
        "def answer_question(row):\n",
        "    pipe = pipeline(\"question-answering\", model=model, tokenizer=tokenizer)\n",
        "    result_row = pipe(question=row[\"question\"], context=row[\"passage\"], handle_impossible_answer=True, topk=5)\n",
        "    return result_row"
      ],
      "metadata": {
        "id": "n4RCNsRpLk8V"
      },
      "execution_count": null,
      "outputs": []
    },
    {
      "cell_type": "code",
      "source": [
        "def Try_Transformer(tokenizer_name,model_name ):\n",
        "  result = {}\n",
        "  tokenizer = AutoTokenizer.from_pretrained(tokenizer_name)\n",
        "  model = AutoModelForQuestionAnswering.from_pretrained(model_name)\n",
        "  # Apply the function to the \"question\" and \"passage\" columns of the DataFrame\n",
        "  for i in tqdm(range(len(data_unique_QA))):\n",
        "    result_part = answer_question(data_unique_QA.iloc[i])\n",
        "    result.update({data_unique_QA.iloc[i][\"pq_id\"]:result_part})\n",
        "  return result"
      ],
      "metadata": {
        "id": "4vBKGEMMLrCh"
      },
      "execution_count": null,
      "outputs": []
    },
    {
      "cell_type": "code",
      "source": [
        "all_scores = {}"
      ],
      "metadata": {
        "id": "Ht7eSLAIL2Tr"
      },
      "execution_count": null,
      "outputs": []
    },
    {
      "cell_type": "code",
      "source": [
        "tokenizer = \"IProject-10/bert-base-uncased-finetuned-squad2\"\n",
        "model = \"IProject-10/bert-base-uncased-finetuned-squad2\"\n",
        "result = Try_Transformer(tokenizer, model)\n",
        "scores = eval.evaluate(train_dataset_jsonl, result)\n",
        "all_scores.update({tokenizer:scores})\n",
        "print(scores)"
      ],
      "metadata": {
        "colab": {
          "base_uri": "https://localhost:8080/",
          "height": 244,
          "referenced_widgets": [
            "32f1c37f51314cbeb71bcc5e020c005f",
            "29cd5c3f54eb40d3a6530aa465ce104d",
            "0d18abd3e5994b119f8ba0ff92cd8678",
            "c005d1615bd14af8bfcd4902c14ec72b",
            "b31fac3196334474b063cd45683911e1",
            "3e487b539945470784813dc59e1276bd",
            "9868417a37844365bd82b342fc3b005f",
            "afe41cc562744e6695715e2d39a2e48d",
            "ad621b06395d413e8aa842e0624cafc5",
            "7b2f83a89e5a4b40b945435ff71c03f1",
            "2a830f32473b457b9af801deade45aac",
            "25ff0c6743fa4fc381b3596ff1513379",
            "fe1f99c873274222a89622113e081ab0",
            "1204ff1daa7243269242c2b2661e3df4",
            "6927dbf1f9ec4f90a7bde44bf0723fcf",
            "526db596a24b44dd813a3eb6ddabf8b3",
            "bdb3154837824e3bb4abb1c070ba54a7",
            "0cfc52586f484b0db2b18fbc85f7c460",
            "f4f2321faacd4377a20afd756de9d84f",
            "73868ad73f5740c99531cbe3b9af9f10",
            "7d5db0681568430f8724def8669e8179",
            "07c8debfcea64bd39dbd27cf87326c6f",
            "5f1a04a39a9a42f8bdf353d087280308",
            "392c54da3f4c4205bb238933c58202df",
            "133189bf89b34cbfaa7b04b13695546a",
            "4bd76320afb7412eb2e638a7f759c4a3",
            "eb4e972f2e2d4de1beb76ef9a2432a12",
            "10ce10885e134f228c6d42ca009dbcc3",
            "dcf18cdd4c6b40bebdc51dfa23953465",
            "5e24cbc0aeac475ca92530870984c6a4",
            "b9027ceb638f46089168c92cea65ec18",
            "02ef2a31faca4975bc080315c00d828c",
            "4fb84b8070274dfc996fccdb5ff59a03",
            "9ab91ecf51ef42bdb2a768d291ff9397",
            "a9eef86d09ce456ab44d42edc50c2744",
            "91d2b948179f442fa61391875a34193f",
            "f2600a28daac4ab6ab102bbfcf7e00e7",
            "c8b4f1e981ed4baebf0a0271224e9b8a",
            "d52398b267ff43fa8feca3e7dd78e6f0",
            "1ea4ce933b894ae2bc80eb5426c16d0d",
            "3e8bb428465144a8a6d191c6806b2bed",
            "21ce91aefbad42aca58e6d51fefee9ef",
            "ced8920d887f4a6fb5dc344b6a97f0b5",
            "ae20fe0eda5a48b0b11b184049633402",
            "faca4f5a85b843b98b04e6bb85a0bdc6",
            "eb52cbe1db084532ae8edde3e3c5c91c",
            "92e58c00150447f0874b9007a6699312",
            "70eb00fb2229474dba34c7067ee27890",
            "05acab377ade40cdb5cfdbe4b826aba3",
            "73a38b93861d42e8bbf81dd322f2d0fe",
            "779cfca94d9b4d468620215337765976",
            "9d3da9e437634036883696d53d8e1ba6",
            "1c57542980834dfea640c097f7c52393",
            "2145731130ae45af907b3dc0b68a46db",
            "d594ebdf3fe446fdafc694247f337d1d",
            "7c5c60cf313a4818aef595e349dcb722",
            "78ba25d0604542e3937686c97781b043",
            "97cb6769dd9f415f8634965ed48a6007",
            "a859c156c76640a1b1be07effb3be3b6",
            "f4597f4a95ca489fbd073c57bf889aae",
            "712692ee48a44d658ea0d573a1f2ed14",
            "36fe8cb4ecb34806b9a686eebef21982",
            "c1a9892f03ce4dd2b62d04f73f1def48",
            "4acdeefdc8b74d5fb82aaada35e6cc9f",
            "fdf19d62dc3743a9bcb5ccdc4d10f63a",
            "1906ce1ca84a4259b8157749344e38a8"
          ]
        },
        "id": "-6pF9dGaL3IS",
        "outputId": "c97499eb-8a2d-4d0b-806e-0fef3334ca19"
      },
      "execution_count": null,
      "outputs": [
        {
          "output_type": "display_data",
          "data": {
            "text/plain": [
              "Downloading (…)okenizer_config.json:   0%|          | 0.00/314 [00:00<?, ?B/s]"
            ],
            "application/vnd.jupyter.widget-view+json": {
              "version_major": 2,
              "version_minor": 0,
              "model_id": "32f1c37f51314cbeb71bcc5e020c005f"
            }
          },
          "metadata": {}
        },
        {
          "output_type": "display_data",
          "data": {
            "text/plain": [
              "Downloading (…)solve/main/vocab.txt:   0%|          | 0.00/232k [00:00<?, ?B/s]"
            ],
            "application/vnd.jupyter.widget-view+json": {
              "version_major": 2,
              "version_minor": 0,
              "model_id": "25ff0c6743fa4fc381b3596ff1513379"
            }
          },
          "metadata": {}
        },
        {
          "output_type": "display_data",
          "data": {
            "text/plain": [
              "Downloading (…)/main/tokenizer.json:   0%|          | 0.00/712k [00:00<?, ?B/s]"
            ],
            "application/vnd.jupyter.widget-view+json": {
              "version_major": 2,
              "version_minor": 0,
              "model_id": "5f1a04a39a9a42f8bdf353d087280308"
            }
          },
          "metadata": {}
        },
        {
          "output_type": "display_data",
          "data": {
            "text/plain": [
              "Downloading (…)cial_tokens_map.json:   0%|          | 0.00/125 [00:00<?, ?B/s]"
            ],
            "application/vnd.jupyter.widget-view+json": {
              "version_major": 2,
              "version_minor": 0,
              "model_id": "9ab91ecf51ef42bdb2a768d291ff9397"
            }
          },
          "metadata": {}
        },
        {
          "output_type": "display_data",
          "data": {
            "text/plain": [
              "Downloading (…)lve/main/config.json:   0%|          | 0.00/673 [00:00<?, ?B/s]"
            ],
            "application/vnd.jupyter.widget-view+json": {
              "version_major": 2,
              "version_minor": 0,
              "model_id": "faca4f5a85b843b98b04e6bb85a0bdc6"
            }
          },
          "metadata": {}
        },
        {
          "output_type": "display_data",
          "data": {
            "text/plain": [
              "Downloading model.safetensors:   0%|          | 0.00/436M [00:00<?, ?B/s]"
            ],
            "application/vnd.jupyter.widget-view+json": {
              "version_major": 2,
              "version_minor": 0,
              "model_id": "7c5c60cf313a4818aef595e349dcb722"
            }
          },
          "metadata": {}
        },
        {
          "output_type": "stream",
          "name": "stderr",
          "text": [
            "100%|██████████| 1155/1155 [58:26<00:00,  3.04s/it]\n"
          ]
        },
        {
          "output_type": "stream",
          "name": "stdout",
          "text": [
            "{'pRR': 0.05689177348514567, 'exact_match': 0.001221001221001221, 'f1': 0.00681045635270636}\n"
          ]
        }
      ]
    }
  ]
}